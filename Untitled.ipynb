{
 "cells": [
  {
   "cell_type": "code",
   "execution_count": 1,
   "metadata": {},
   "outputs": [],
   "source": [
    "import flask_restful"
   ]
  },
  {
   "cell_type": "code",
   "execution_count": 2,
   "metadata": {},
   "outputs": [],
   "source": [
    "from app.helpers import cmd_parser"
   ]
  },
  {
   "cell_type": "code",
   "execution_count": 3,
   "metadata": {},
   "outputs": [],
   "source": [
    "from app.libs.util import *"
   ]
  },
  {
   "cell_type": "code",
   "execution_count": 4,
   "metadata": {},
   "outputs": [],
   "source": [
    "d=repodata()"
   ]
  },
  {
   "cell_type": "code",
   "execution_count": 5,
   "metadata": {},
   "outputs": [
    {
     "data": {
      "text/plain": [
       "{'version': 'v.0.0.1',\n",
       " 'endpoint': {'dt_company': {'insert': {'fields': {'id_company': {'name': 'primary key database',\n",
       "      'type': 'int'},\n",
       "     'nm_company': {'name': 'company name', 'type': 'string'},\n",
       "     'url_company': {'name': 'company url', 'type': 'string'}}},\n",
       "   'where': {'tags': {'id_company': {'name': 'primary key database',\n",
       "      'type': 'int'},\n",
       "     'nm_company': {'name': 'company name', 'type': 'string'}}},\n",
       "   'remove': {'tags': {'id_company': {'name': 'primary key database',\n",
       "      'type': 'int'}}},\n",
       "   'update': {'tags': {'id_company': {'name': 'primary key database',\n",
       "      'type': 'int'}},\n",
       "    'fields': {'nm_company': {'name': 'company name', 'type': 'string'},\n",
       "     'url_company': {'name': 'company url', 'type': 'string'}}}},\n",
       "  'dt_product': {'insert': {'fields': {'id_product': {'name': 'primary key',\n",
       "      'type': 'int'},\n",
       "     'nm_product': {'name': 'product name', 'type': 'str'},\n",
       "     'nm_databaseDetail': {'name': 'Database reference', 'type': 'str'}}},\n",
       "   'where': {'tags': {'id_product': {'name': 'primary key', 'type': 'int'},\n",
       "     'nm_product': {'name': 'product name', 'type': 'str'},\n",
       "     'nm_databaseDetail': {'name': 'Database reference', 'type': 'str'}}},\n",
       "   'remove': {'tags': {'id_product': {'name': 'primary key', 'type': 'int'}}},\n",
       "   'update': {'tags': {'id_product': {'name': 'primary key', 'type': 'int'}},\n",
       "    'fields': {'id_product': {'name': 'primary key', 'type': 'int'},\n",
       "     'nm_product': {'name': 'product name', 'type': 'str'},\n",
       "     'nm_databaseDetail': {'name': 'Database reference', 'type': 'str'}}}},\n",
       "  'dt_company_product': {'insert': {'fields': {'id_company_product': {'name': 'primary key',\n",
       "      'type': 'int'},\n",
       "     'id_product': {'name': 'foreign key', 'type': 'int'},\n",
       "     'id_company': {'name': 'foreign key', 'type': 'int'},\n",
       "     'nm_product': {'name': 'product name', 'type': 'str'},\n",
       "     'id_worker': {'name': 'worker reference', 'type': 'int'}}},\n",
       "   'where': {'tags': {'id_company_product': {'name': 'primary key',\n",
       "      'type': 'int'},\n",
       "     'id_product': {'name': 'foreign key', 'type': 'int'},\n",
       "     'id_company': {'name': 'foreign key', 'type': 'int'},\n",
       "     'nm_product': {'name': 'product name', 'type': 'str'},\n",
       "     'id_worker': {'name': 'worker reference', 'type': 'int'}}},\n",
       "   'remove': {'tags': {'id_company_product': {'name': 'primary key',\n",
       "      'type': 'int'}}},\n",
       "   'update': {'tags': {'id_company_product': {'name': 'primary key',\n",
       "      'type': 'int'}},\n",
       "    'fields': {'id_company_product': {'name': 'primary key', 'type': 'int'},\n",
       "     'id_product': {'name': 'foreign key', 'type': 'int'},\n",
       "     'id_company': {'name': 'foreign key', 'type': 'int'},\n",
       "     'nm_product': {'name': 'product name', 'type': 'str'},\n",
       "     'id_worker': {'name': 'worker reference', 'type': 'int'}}}},\n",
       "  'dt_vm': {'insert': {'fields': {'id_vm': {'name': 'primary_key',\n",
       "      'type': 'int'},\n",
       "     'vCPU': {'name': 'vCPU in Core', 'type': 'str'},\n",
       "     'clock': {'name': 'Clock in GHz', 'type': 'str'},\n",
       "     'RAM': {'name': 'RAM', 'type': 'str'},\n",
       "     'OS': {'name': 'OS_TYPE', 'type': 'str'},\n",
       "     'Storage_Volume': {'name': 'Storage Data in GB', 'type': 'str'},\n",
       "     'SSD_Volume': {'name': 'SSD Storage in GB', 'type': 'str'},\n",
       "     'Snapshot_Volume': {'name': 'Snapshot Storage in GB', 'type': 'str'},\n",
       "     'Template_Volume': {'name': 'Template Storage in GB', 'type': 'str'},\n",
       "     'ISO_Volume': {'name': 'ISO Volume in GB', 'type': 'str'},\n",
       "     'Public IP': {'name': 'Public IP Available', 'type': 'str'},\n",
       "     'Backup_Storage': {'name': 'Backup Storage Available', 'type': 'str'},\n",
       "     'Price': {'name': 'Price in Rp/Month', 'type': 'str'},\n",
       "     'id_company_product': {'name': 'fk_dt_company_product', 'type': 'int'},\n",
       "     'id_company': {'name': 'fk_dt_company', 'type': 'int'}}},\n",
       "   'where': {'tags': {'id_vm': {'name': 'primary_key', 'type': 'int'},\n",
       "     'vCPU': {'name': 'vCPU in Core', 'type': 'str'},\n",
       "     'clock': {'name': 'Clock in GHz', 'type': 'str'},\n",
       "     'RAM': {'name': 'RAM', 'type': 'str'},\n",
       "     'OS': {'name': 'OS_TYPE', 'type': 'str'},\n",
       "     'Storage_Volume': {'name': 'Storage Data in GB', 'type': 'str'},\n",
       "     'SSD_Volume': {'name': 'SSD Storage in GB', 'type': 'str'},\n",
       "     'Snapshot_Volume': {'name': 'Snapshot Storage in GB', 'type': 'str'},\n",
       "     'Template_Volume': {'name': 'Template Storage in GB', 'type': 'str'},\n",
       "     'ISO_Volume': {'name': 'ISO Volume in GB', 'type': 'str'},\n",
       "     'Public IP': {'name': 'Public IP Available', 'type': 'str'},\n",
       "     'Backup_Storage': {'name': 'Backup Storage Available', 'type': 'str'},\n",
       "     'Price': {'name': 'Price in Rp/Month', 'type': 'str'},\n",
       "     'id_company_product': {'name': 'fk_dt_company_product', 'type': 'int'},\n",
       "     'id_company': {'name': 'fk_dt_company', 'type': 'int'}}},\n",
       "   'remove': {'tags': {'id_vm': {'name': 'primary_key', 'type': 'int'}}},\n",
       "   'update': {'tags': {'id_vm': {'name': 'primary_key', 'type': 'int'},\n",
       "     'vCPU': {'name': 'vCPU in Core', 'type': 'str'},\n",
       "     'clock': {'name': 'Clock in GHz', 'type': 'str'},\n",
       "     'RAM': {'name': 'RAM', 'type': 'str'},\n",
       "     'OS': {'name': 'OS_TYPE', 'type': 'str'},\n",
       "     'Storage_Volume': {'name': 'Storage Data in GB', 'type': 'str'},\n",
       "     'SSD_Volume': {'name': 'SSD Storage in GB', 'type': 'str'},\n",
       "     'Snapshot_Volume': {'name': 'Snapshot Storage in GB', 'type': 'str'},\n",
       "     'Template_Volume': {'name': 'Template Storage in GB', 'type': 'str'},\n",
       "     'ISO_Volume': {'name': 'ISO Volume in GB', 'type': 'str'},\n",
       "     'Public_IP': {'name': 'Public IP Available', 'type': 'str'},\n",
       "     'Backup_Storage': {'name': 'Backup Storage Available', 'type': 'str'},\n",
       "     'Price': {'name': 'Price in Rp/Month', 'type': 'str'},\n",
       "     'id_company_product': {'name': 'fk_dt_company_product', 'type': 'int'},\n",
       "     'id_company': {'name': 'fk_dt_company', 'type': 'int'}}}},\n",
       "  'dt_worker': {'fields': {'id_worker': {'name': 'primary key', 'type': 'int'},\n",
       "    'loc_schedule_config': {'name': 'schedule configuration location',\n",
       "     'type': 'str'},\n",
       "    'loc_config': {'name': 'worker config location', 'type': 'str'}}}}}"
      ]
     },
     "execution_count": 5,
     "metadata": {},
     "output_type": "execute_result"
    }
   ],
   "source": [
    "d"
   ]
  },
  {
   "cell_type": "code",
   "execution_count": null,
   "metadata": {},
   "outputs": [],
   "source": []
  }
 ],
 "metadata": {
  "kernelspec": {
   "display_name": "Python 3",
   "language": "python",
   "name": "python3"
  },
  "language_info": {
   "codemirror_mode": {
    "name": "ipython",
    "version": 3
   },
   "file_extension": ".py",
   "mimetype": "text/x-python",
   "name": "python",
   "nbconvert_exporter": "python",
   "pygments_lexer": "ipython3",
   "version": "3.6.8"
  }
 },
 "nbformat": 4,
 "nbformat_minor": 2
}
